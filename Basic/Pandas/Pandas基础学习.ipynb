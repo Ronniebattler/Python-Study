{
 "cells": [
  {
   "cell_type": "markdown",
   "metadata": {},
   "source": [
    "# Pandas"
   ]
  },
  {
   "cell_type": "markdown",
   "metadata": {},
   "source": [
    "- High-level data structures (data frame)\n",
    "- More streamlined handling of tabular data, and rich time series functionality.\n",
    "- Data alignment\n",
    "- Can see Pandas data structures\n",
    "\n",
    "`pandas` 是一个Python数据分析库，用于处理和分析结构化数据。它提供了两种主要的数据结构：`DataFrame` 和 `Series`，用于灵活地处理和操作数据。以下是 `pandas` 主要用途的介绍：\n",
    "\n",
    "1. 数据加载和存储：`pandas` 可以轻松地从各种数据源加载数据，包括CSV、Excel、SQL数据库、JSON、HTML等。它还允许将数据导出到这些格式中。\n",
    "\n",
    "2. 数据清洗和预处理：`pandas` 提供了强大的数据清洗和预处理功能，包括处理缺失值、重复值、异常值，以及数据转换和格式化。\n",
    "\n",
    "3. 数据选择和切片：使用 `DataFrame` 和 `Series`，您可以轻松地选择、过滤和切片数据，以获取所需的子集。\n",
    "\n",
    "4. 数据分析和统计：`pandas` 具有丰富的数据分析和统计功能，包括描述性统计、聚合、分组和透视表等。\n",
    "\n",
    "5. 时间序列数据分析：`pandas` 支持时间序列数据的处理，包括日期和时间的解析、滚动统计、时间重采样等。\n",
    "\n",
    "6. 数据可视化：`pandas` 可以与其他数据可视化库（如`Matplotlib` 和 `Seaborn`）结合使用，以创建各种类型的图表和可视化。\n",
    "\n",
    "7. 数据合并和连接：您可以使用 `pandas` 将多个数据集合并或连接成一个，以便进行更全面的分析。\n",
    "\n",
    "8. 多级索引：`pandas` 允许您创建多级索引，以更灵活地处理复杂的数据结构。\n",
    "\n",
    "9. 数据导出和报告生成：您可以使用 `pandas` 导出处理后的数据到不同的格式，并生成报告，以便与他人分享分析结果。\n",
    "\n",
    "`pandas` 是数据科学和数据分析中不可或缺的工具，它使数据处理和分析变得更加高效和方便。这个库在处理各种数据分析和数据处理任务时非常有用，可以参见网站: [https://pandas.pydata.org/](https://pandas.pydata.org/)\n",
    "。"
   ]
  },
  {
   "cell_type": "code",
   "execution_count": 1,
   "metadata": {},
   "outputs": [],
   "source": [
    "# import package\n",
    "import numpy as np\n",
    "import pandas as pd"
   ]
  },
  {
   "cell_type": "markdown",
   "metadata": {},
   "source": [
    "## Series\n",
    "Series: one dimension data structure."
   ]
  },
  {
   "cell_type": "code",
   "execution_count": 7,
   "metadata": {},
   "outputs": [
    {
     "data": {
      "text/plain": [
       "1    a\n",
       "2    b\n",
       "3    c\n",
       "4    d\n",
       "dtype: object"
      ]
     },
     "execution_count": 7,
     "metadata": {},
     "output_type": "execute_result"
    }
   ],
   "source": [
    "# Create a series by first creating a list\n",
    "list_1 = ['a', 'b', 'c', 'd']\n",
    "# I can define that I want the series indexes to be the\n",
    "# provided labels\n",
    "labels = [1, 2, 3, 4]\n",
    "ser_1 = pd.Series(data=list_1, index=labels)\n",
    "ser_1"
   ]
  },
  {
   "cell_type": "code",
   "execution_count": 10,
   "metadata": {},
   "outputs": [
    {
     "name": "stdout",
     "output_type": "stream",
     "text": [
      "0    1\n",
      "1    2\n",
      "2    3\n",
      "3    4\n",
      "dtype: int32\n",
      "int32\n"
     ]
    }
   ],
   "source": [
    "# You can also add a NumPy array\n",
    "arr_1 = np.array([1, 2, 3, 4])\n",
    "ser_2 = pd.Series(arr_1)\n",
    "print(ser_2)\n",
    "print(ser_2.dtype)"
   ]
  },
  {
   "cell_type": "markdown",
   "metadata": {},
   "source": []
  },
  {
   "cell_type": "markdown",
   "metadata": {},
   "source": [
    "## Example"
   ]
  },
  {
   "cell_type": "markdown",
   "metadata": {},
   "source": [
    "### Load hard-coded data into a dataframe"
   ]
  },
  {
   "cell_type": "code",
   "execution_count": 5,
   "metadata": {},
   "outputs": [],
   "source": [
    "def header(msg):\n",
    "    print('-'*50)\n",
    "    print('['+msg+']')"
   ]
  },
  {
   "cell_type": "code",
   "execution_count": 15,
   "metadata": {},
   "outputs": [
    {
     "name": "stdout",
     "output_type": "stream",
     "text": [
      "--------------------------------------------------\n",
      "[six]\n"
     ]
    }
   ],
   "source": [
    "header('six')"
   ]
  }
 ],
 "metadata": {
  "kernelspec": {
   "display_name": "base",
   "language": "python",
   "name": "python3"
  },
  "language_info": {
   "codemirror_mode": {
    "name": "ipython",
    "version": 3
   },
   "file_extension": ".py",
   "mimetype": "text/x-python",
   "name": "python",
   "nbconvert_exporter": "python",
   "pygments_lexer": "ipython3",
   "version": "3.9.12"
  }
 },
 "nbformat": 4,
 "nbformat_minor": 2
}
