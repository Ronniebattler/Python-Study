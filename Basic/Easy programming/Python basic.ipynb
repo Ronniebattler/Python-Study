{
 "cells": [
  {
   "attachments": {},
   "cell_type": "markdown",
   "metadata": {},
   "source": [
    "# Python基础"
   ]
  },
  {
   "attachments": {},
   "cell_type": "markdown",
   "metadata": {},
   "source": [
    "## print()"
   ]
  },
  {
   "cell_type": "code",
   "execution_count": 3,
   "metadata": {},
   "outputs": [
    {
     "name": "stdout",
     "output_type": "stream",
     "text": [
      "we are going to do somethig\n",
      "I'm a boy\n",
      "e4\n",
      "e4\n"
     ]
    }
   ],
   "source": [
    "print('we are going to do somethig')\n",
    "print('I\\'m a boy')\n",
    "print('e'+'4')\n",
    "print('e'+str(4))"
   ]
  },
  {
   "attachments": {},
   "cell_type": "markdown",
   "metadata": {},
   "source": [
    "## 数学"
   ]
  },
  {
   "cell_type": "code",
   "execution_count": 1,
   "metadata": {},
   "outputs": [
    {
     "data": {
      "text/plain": [
       "2"
      ]
     },
     "execution_count": 1,
     "metadata": {},
     "output_type": "execute_result"
    }
   ],
   "source": [
    "1+1\n",
    "2*2\n",
    "2**2 #平方\n",
    "8%2 #取余数\n",
    "9//4 #取整"
   ]
  },
  {
   "attachments": {},
   "cell_type": "markdown",
   "metadata": {},
   "source": [
    "## 自变量"
   ]
  },
  {
   "cell_type": "code",
   "execution_count": 2,
   "metadata": {},
   "outputs": [
    {
     "name": "stdout",
     "output_type": "stream",
     "text": [
      "1 2 3\n"
     ]
    }
   ],
   "source": [
    "a,b,c = 1, 2,3\n",
    "print(a,b,c)"
   ]
  },
  {
   "attachments": {},
   "cell_type": "markdown",
   "metadata": {},
   "source": [
    "## while"
   ]
  },
  {
   "cell_type": "code",
   "execution_count": 3,
   "metadata": {},
   "outputs": [
    {
     "name": "stdout",
     "output_type": "stream",
     "text": [
      "1\n",
      "2\n",
      "3\n",
      "4\n",
      "5\n",
      "6\n",
      "7\n",
      "8\n",
      "9\n"
     ]
    }
   ],
   "source": [
    "condition = 1\n",
    "while condition < 10:\n",
    "    print(condition)\n",
    "    condition = condition+1"
   ]
  },
  {
   "attachments": {},
   "cell_type": "markdown",
   "metadata": {},
   "source": [
    "## for"
   ]
  },
  {
   "cell_type": "code",
   "execution_count": 4,
   "metadata": {},
   "outputs": [
    {
     "name": "stdout",
     "output_type": "stream",
     "text": [
      "1\n",
      "2\n",
      "3\n",
      "4\n",
      "5\n",
      "6\n",
      "7\n",
      "8\n",
      "9\n"
     ]
    }
   ],
   "source": [
    "example_list = [1,2,3,4,5,6,7,8,9]\n",
    "for i in example_list:\n",
    "    print(i)"
   ]
  },
  {
   "cell_type": "code",
   "execution_count": 5,
   "metadata": {},
   "outputs": [
    {
     "name": "stdout",
     "output_type": "stream",
     "text": [
      "1\n",
      "2\n",
      "3\n",
      "4\n",
      "5\n",
      "6\n",
      "7\n",
      "8\n",
      "9\n"
     ]
    }
   ],
   "source": [
    "for i in range(1,10):\n",
    "    print(i)"
   ]
  },
  {
   "cell_type": "code",
   "execution_count": 6,
   "metadata": {},
   "outputs": [
    {
     "name": "stdout",
     "output_type": "stream",
     "text": [
      "1\n",
      "3\n",
      "5\n",
      "7\n",
      "9\n"
     ]
    }
   ],
   "source": [
    "for i in range(1,10,2):#步长为2\n",
    "    print(i)"
   ]
  },
  {
   "attachments": {},
   "cell_type": "markdown",
   "metadata": {},
   "source": [
    "## if"
   ]
  },
  {
   "cell_type": "code",
   "execution_count": 7,
   "metadata": {},
   "outputs": [],
   "source": [
    "x,y,z = 1,2,3\n",
    "if x>y:\n",
    "    print('x is bigger than y.')\n",
    "    "
   ]
  },
  {
   "cell_type": "code",
   "execution_count": 8,
   "metadata": {},
   "outputs": [],
   "source": [
    "x,y,z = 1,2,3\n",
    "if x==y:\n",
    "    print('x is bigger than y.')"
   ]
  },
  {
   "cell_type": "code",
   "execution_count": 9,
   "metadata": {},
   "outputs": [
    {
     "name": "stdout",
     "output_type": "stream",
     "text": [
      "x is not equal to y.\n"
     ]
    }
   ],
   "source": [
    "x,y,z = 1,2,3\n",
    "if x!=y: #不等于\n",
    "    print('x is not equal to y.')"
   ]
  },
  {
   "attachments": {},
   "cell_type": "markdown",
   "metadata": {},
   "source": [
    "## if else"
   ]
  },
  {
   "cell_type": "code",
   "execution_count": 10,
   "metadata": {},
   "outputs": [
    {
     "name": "stdout",
     "output_type": "stream",
     "text": [
      "x is less than y.\n"
     ]
    }
   ],
   "source": [
    "x,y,z = 1,2,3\n",
    "if x>y:\n",
    "    print('x is bigger than y.')\n",
    "else:\n",
    "    print('x is less than y.')"
   ]
  },
  {
   "attachments": {},
   "cell_type": "markdown",
   "metadata": {},
   "source": [
    "## if elif else"
   ]
  },
  {
   "cell_type": "code",
   "execution_count": 11,
   "metadata": {},
   "outputs": [
    {
     "name": "stdout",
     "output_type": "stream",
     "text": [
      "x is more than 1\n"
     ]
    }
   ],
   "source": [
    "x,y,z = 2,2,3\n",
    "if x>y:\n",
    "    print('x is bigger than y.')\n",
    "elif x>1:\n",
    "    print('x is more than 1')\n",
    "else:\n",
    "    print('x is less than y.')"
   ]
  },
  {
   "attachments": {},
   "cell_type": "markdown",
   "metadata": {},
   "source": [
    "## def函数"
   ]
  },
  {
   "cell_type": "code",
   "execution_count": 12,
   "metadata": {},
   "outputs": [
    {
     "data": {
      "text/plain": [
       "3"
      ]
     },
     "execution_count": 12,
     "metadata": {},
     "output_type": "execute_result"
    }
   ],
   "source": [
    "def fun(a,b):\n",
    "    c = a+b\n",
    "    return c\n",
    "fun(1,2)"
   ]
  },
  {
   "attachments": {},
   "cell_type": "markdown",
   "metadata": {},
   "source": [
    "## 函数默认参数"
   ]
  },
  {
   "cell_type": "code",
   "execution_count": 13,
   "metadata": {},
   "outputs": [
    {
     "name": "stdout",
     "output_type": "stream",
     "text": [
      "price 1000 colour blue\n"
     ]
    }
   ],
   "source": [
    "def sale_car(price,colour):\n",
    "    print(\"price\",price,\n",
    "         \"colour\",colour)\n",
    "sale_car(1000,colour='blue')"
   ]
  },
  {
   "attachments": {},
   "cell_type": "markdown",
   "metadata": {},
   "source": [
    "## 全局 局部变量 global&local"
   ]
  },
  {
   "cell_type": "code",
   "execution_count": null,
   "metadata": {},
   "outputs": [],
   "source": [
    "X = 100\n",
    "def fun():\n",
    "    a = 10\n",
    "    return a+100\n",
    "print(X)#不能打印a,because a is a local variable"
   ]
  },
  {
   "cell_type": "code",
   "execution_count": 24,
   "metadata": {},
   "outputs": [
    {
     "name": "stdout",
     "output_type": "stream",
     "text": [
      "10\n"
     ]
    }
   ],
   "source": [
    "X = 100\n",
    "a = None\n",
    "def fun():\n",
    "    global a\n",
    "    a = 10\n",
    "    return a+100\n",
    "fun()\n",
    "print(a)"
   ]
  },
  {
   "attachments": {},
   "cell_type": "markdown",
   "metadata": {},
   "source": [
    "## 安装模块"
   ]
  },
  {
   "attachments": {},
   "cell_type": "markdown",
   "metadata": {},
   "source": [
    "## 文件读写"
   ]
  },
  {
   "cell_type": "code",
   "execution_count": 2,
   "metadata": {},
   "outputs": [],
   "source": [
    "# 写文字\n",
    "text = 'this is my first test.\\n This is next line'\n",
    "my_file = open('my_file.txt','w') #w 以写的形式打开 r 只读\n",
    "my_file.write(text)\n",
    "my_file.close() # close file"
   ]
  },
  {
   "cell_type": "code",
   "execution_count": 4,
   "metadata": {},
   "outputs": [],
   "source": [
    "# 追加一些文字\n",
    "text1 = '\\nthis is my first test.\\nThis is next line'\n",
    "\n",
    "my_file = open('my_file.txt','a') #a append \n",
    "my_file.write(text1)\n",
    "my_file.close() # close file"
   ]
  },
  {
   "cell_type": "code",
   "execution_count": 6,
   "metadata": {},
   "outputs": [
    {
     "name": "stdout",
     "output_type": "stream",
     "text": [
      "this is my first test.\n",
      " This is next linethis is my first test.\n",
      " This is next line\n",
      "this is my first test.\n",
      "This is next line\n"
     ]
    }
   ],
   "source": [
    "# 读文件\n",
    "file = open('my_file.txt','r')\n",
    "content = file.read()\n",
    "print(content)"
   ]
  },
  {
   "cell_type": "code",
   "execution_count": 8,
   "metadata": {},
   "outputs": [
    {
     "data": {
      "text/plain": [
       "['this is my first test.\\n',\n",
       " ' This is next linethis is my first test.\\n',\n",
       " ' This is next line\\n',\n",
       " 'this is my first test.\\n',\n",
       " 'This is next line']"
      ]
     },
     "execution_count": 8,
     "metadata": {},
     "output_type": "execute_result"
    }
   ],
   "source": [
    "file.readline()#每次读一行\n",
    "file = open('my_file.txt','r')\n",
    "file.readlines()#所有行都去读，并放在一个list中"
   ]
  },
  {
   "attachments": {},
   "cell_type": "markdown",
   "metadata": {},
   "source": [
    "## class类"
   ]
  },
  {
   "cell_type": "code",
   "execution_count": 9,
   "metadata": {},
   "outputs": [],
   "source": [
    "# 广泛的分类 特殊的属性 功能\n",
    "class Caculate: #一般第一个字母大写\n",
    "    name = 'Good calculator'\n",
    "    price = 18\n",
    "    def add(self,x,y):#self自带属性\n",
    "        return x+y\n",
    "    def minus(self,x,y):\n",
    "        return x-y\n",
    "    def times(self,x,y):\n",
    "        return x*y\n",
    "    def divide(self,x,y):\n",
    "        return x/y"
   ]
  },
  {
   "cell_type": "code",
   "execution_count": 10,
   "metadata": {},
   "outputs": [
    {
     "name": "stdout",
     "output_type": "stream",
     "text": [
      "Good calculator\n"
     ]
    },
    {
     "data": {
      "text/plain": [
       "3"
      ]
     },
     "execution_count": 10,
     "metadata": {},
     "output_type": "execute_result"
    }
   ],
   "source": [
    "cal = Caculate()\n",
    "print(cal.name)\n",
    "cal.add(1,2)"
   ]
  },
  {
   "attachments": {},
   "cell_type": "markdown",
   "metadata": {},
   "source": [
    "## class int 功能"
   ]
  },
  {
   "attachments": {},
   "cell_type": "markdown",
   "metadata": {},
   "source": [
    "使用class的时候，初始定义一点内容"
   ]
  },
  {
   "cell_type": "code",
   "execution_count": 11,
   "metadata": {},
   "outputs": [],
   "source": [
    "class Caculate: #一般第一个字母大写\n",
    "    name = 'Good calculator'\n",
    "    price = 18\n",
    "    def __init__(self,name,price,height,width,weight):#之后定义Caculate类时必须输入init里面的参数才可以\n",
    "        self.name = name\n",
    "        self.price = price\n",
    "        self.height = height\n",
    "        self.width = width\n",
    "        self.weight = weight\n",
    "    def add(self,x,y):#self自带属性\n",
    "        return x+y\n",
    "    def minus(self,x,y):\n",
    "        return x-y\n",
    "    def times(self,x,y):\n",
    "        return x*y\n",
    "    def divide(self,x,y):\n",
    "        return x/y"
   ]
  },
  {
   "cell_type": "code",
   "execution_count": 13,
   "metadata": {},
   "outputs": [
    {
     "data": {
      "text/plain": [
       "'4'"
      ]
     },
     "execution_count": 13,
     "metadata": {},
     "output_type": "execute_result"
    }
   ],
   "source": [
    "c = Caculate('1','$10','2','3','4')\n",
    "c.weight"
   ]
  },
  {
   "attachments": {},
   "cell_type": "markdown",
   "metadata": {},
   "source": [
    "## input输入"
   ]
  },
  {
   "cell_type": "code",
   "execution_count": 14,
   "metadata": {},
   "outputs": [],
   "source": [
    "a_input = input('Please give a number:')\n",
    "print('This input number is:',a_input)"
   ]
  },
  {
   "attachments": {},
   "cell_type": "markdown",
   "metadata": {},
   "source": [
    "## 元组 列表"
   ]
  },
  {
   "cell_type": "code",
   "execution_count": 1,
   "metadata": {},
   "outputs": [],
   "source": [
    "# tuple list\n",
    "a_tuple = (1,2,3)\n",
    "b_tuple = 1,2,3\n",
    "\n",
    "a_list = [1,2,3]"
   ]
  },
  {
   "cell_type": "code",
   "execution_count": 2,
   "metadata": {},
   "outputs": [
    {
     "name": "stdout",
     "output_type": "stream",
     "text": [
      "1\n",
      "2\n",
      "3\n"
     ]
    }
   ],
   "source": [
    "for i in a_tuple:\n",
    "    print(i)"
   ]
  },
  {
   "attachments": {},
   "cell_type": "markdown",
   "metadata": {},
   "source": [
    "## list"
   ]
  },
  {
   "cell_type": "code",
   "execution_count": 3,
   "metadata": {},
   "outputs": [
    {
     "name": "stdout",
     "output_type": "stream",
     "text": [
      "[1, 2, 3, 4, 5, 6, 0]\n"
     ]
    }
   ],
   "source": [
    "a = [1,2,3,4,5,6]\n",
    "\n",
    "a.append(0) #在后面加0\n",
    "print(a)"
   ]
  },
  {
   "cell_type": "code",
   "execution_count": 4,
   "metadata": {},
   "outputs": [
    {
     "name": "stdout",
     "output_type": "stream",
     "text": [
      "[1, 0, 2, 3, 4, 5, 6]\n"
     ]
    }
   ],
   "source": [
    "a = [1,2,3,4,5,6]\n",
    "\n",
    "a.insert(1,0)#指定位置加入 第二位置加入0\n",
    "print(a)"
   ]
  },
  {
   "cell_type": "code",
   "execution_count": 6,
   "metadata": {},
   "outputs": [
    {
     "name": "stdout",
     "output_type": "stream",
     "text": [
      "[1, 2, 3, 4, 5, 6]\n"
     ]
    }
   ],
   "source": [
    "a = [1,2,2,3,4,5,6]\n",
    "\n",
    "a.remove(2)#删除某个值 删除第一个这个值\n",
    "print(a)"
   ]
  },
  {
   "cell_type": "code",
   "execution_count": 7,
   "metadata": {},
   "outputs": [
    {
     "name": "stdout",
     "output_type": "stream",
     "text": [
      "1 6\n"
     ]
    }
   ],
   "source": [
    "a = [1,2,2,3,4,5,6]\n",
    "\n",
    "print(a[0],a[-1])#第一个值 最后一个值"
   ]
  },
  {
   "cell_type": "code",
   "execution_count": 9,
   "metadata": {},
   "outputs": [
    {
     "name": "stdout",
     "output_type": "stream",
     "text": [
      "[1, 2, 2]\n",
      "[4, 5, 6]\n"
     ]
    }
   ],
   "source": [
    "a = [1,2,2,3,4,5,6]\n",
    "\n",
    "print(a[0:3])\n",
    "print(a[-3:])"
   ]
  },
  {
   "cell_type": "code",
   "execution_count": 10,
   "metadata": {},
   "outputs": [
    {
     "name": "stdout",
     "output_type": "stream",
     "text": [
      "1\n"
     ]
    }
   ],
   "source": [
    "a = [1,2,2,3,4,5,6]\n",
    "\n",
    "print(a.index(2))#第一个2的索引"
   ]
  },
  {
   "cell_type": "code",
   "execution_count": 11,
   "metadata": {},
   "outputs": [
    {
     "name": "stdout",
     "output_type": "stream",
     "text": [
      "2\n"
     ]
    }
   ],
   "source": [
    "a = [1,2,2,3,4,5,6]\n",
    "\n",
    "print(a.count(2))#出现2的次数"
   ]
  },
  {
   "cell_type": "code",
   "execution_count": 13,
   "metadata": {},
   "outputs": [
    {
     "name": "stdout",
     "output_type": "stream",
     "text": [
      "[1, 2, 2, 3, 4, 5, 6]\n",
      "[6, 5, 4, 3, 2, 2, 1]\n"
     ]
    }
   ],
   "source": [
    "#排序\n",
    "#从大到小\n",
    "a = [1,2,2,3,4,5,6]\n",
    "a.sort()\n",
    "print(a)\n",
    "#从小到大\n",
    "a.sort(reverse=True)#reverse=1\n",
    "print(a)"
   ]
  },
  {
   "attachments": {},
   "cell_type": "markdown",
   "metadata": {},
   "source": [
    "## 多维列表"
   ]
  },
  {
   "cell_type": "code",
   "execution_count": 14,
   "metadata": {},
   "outputs": [
    {
     "name": "stdout",
     "output_type": "stream",
     "text": [
      "2\n"
     ]
    }
   ],
   "source": [
    "multi_dim_a = [[1,2,3],\n",
    "               [2,3,4],\n",
    "               [3,4,5]]\n",
    "print(multi_dim_a[0][1])"
   ]
  },
  {
   "attachments": {},
   "cell_type": "markdown",
   "metadata": {},
   "source": [
    "## 字典"
   ]
  },
  {
   "cell_type": "code",
   "execution_count": 16,
   "metadata": {},
   "outputs": [
    {
     "name": "stdout",
     "output_type": "stream",
     "text": [
      "1\n"
     ]
    }
   ],
   "source": [
    "d = {'apple':1,'pear':2,'orange':3}\n",
    "print(d['apple'])"
   ]
  },
  {
   "cell_type": "code",
   "execution_count": 17,
   "metadata": {},
   "outputs": [
    {
     "name": "stdout",
     "output_type": "stream",
     "text": [
      "{'apple': 1, 'orange': 3}\n"
     ]
    }
   ],
   "source": [
    "# 删除\n",
    "d = {'apple':1,'pear':2,'orange':3}\n",
    "del d['pear']\n",
    "print(d)"
   ]
  },
  {
   "cell_type": "code",
   "execution_count": 18,
   "metadata": {},
   "outputs": [
    {
     "name": "stdout",
     "output_type": "stream",
     "text": [
      "{'apple': 1, 'pear': 2, 'orange': 3, 'b': 2}\n"
     ]
    }
   ],
   "source": [
    "# 加一个 字典不按顺序\n",
    "d = {'apple':1,'pear':2,'orange':3}\n",
    "d['b'] = 2\n",
    "print(d)"
   ]
  },
  {
   "cell_type": "code",
   "execution_count": 19,
   "metadata": {},
   "outputs": [
    {
     "name": "stdout",
     "output_type": "stream",
     "text": [
      "{'apple': [1, 2, 3], 'pear': {2: 3, 3: 'a'}, 'orange': <function fun at 0x000001B0853474C0>, 'b': 2}\n"
     ]
    }
   ],
   "source": [
    "# 字典的多样性\n",
    "def fun():\n",
    "    print(1)\n",
    "d = {'apple':[1,2,3],'pear':{2:3,3:'a'},'orange':fun}\n",
    "d['b'] = 2\n",
    "print(d)"
   ]
  },
  {
   "attachments": {},
   "cell_type": "markdown",
   "metadata": {},
   "source": [
    "## import"
   ]
  },
  {
   "cell_type": "code",
   "execution_count": 21,
   "metadata": {},
   "outputs": [
    {
     "name": "stdout",
     "output_type": "stream",
     "text": [
      "time.struct_time(tm_year=2023, tm_mon=6, tm_mday=24, tm_hour=23, tm_min=47, tm_sec=32, tm_wday=5, tm_yday=175, tm_isdst=0)\n"
     ]
    }
   ],
   "source": [
    "# 导入一些模块\n",
    "import time\n",
    "print(time.localtime())"
   ]
  },
  {
   "cell_type": "code",
   "execution_count": 22,
   "metadata": {},
   "outputs": [
    {
     "data": {
      "text/plain": [
       "time.struct_time(tm_year=2023, tm_mon=6, tm_mday=24, tm_hour=23, tm_min=48, tm_sec=37, tm_wday=5, tm_yday=175, tm_isdst=0)"
      ]
     },
     "execution_count": 22,
     "metadata": {},
     "output_type": "execute_result"
    }
   ],
   "source": [
    "# 模块做一些简称\n",
    "import time as t\n",
    "t.localtime()"
   ]
  },
  {
   "cell_type": "code",
   "execution_count": 23,
   "metadata": {},
   "outputs": [
    {
     "name": "stdout",
     "output_type": "stream",
     "text": [
      "time.struct_time(tm_year=2023, tm_mon=6, tm_mday=24, tm_hour=23, tm_min=49, tm_sec=23, tm_wday=5, tm_yday=175, tm_isdst=0)\n"
     ]
    }
   ],
   "source": [
    "# 只要一部分函数\n",
    "from time import localtime\n",
    "\n",
    "print(localtime())"
   ]
  },
  {
   "cell_type": "code",
   "execution_count": null,
   "metadata": {},
   "outputs": [],
   "source": [
    "from time import* #导入模块所有函数"
   ]
  },
  {
   "attachments": {},
   "cell_type": "markdown",
   "metadata": {},
   "source": [
    "## 自己的模块"
   ]
  },
  {
   "cell_type": "code",
   "execution_count": null,
   "metadata": {},
   "outputs": [],
   "source": [
    "# 自己创建好的脚本即可 注意文件路径\n"
   ]
  },
  {
   "attachments": {},
   "cell_type": "markdown",
   "metadata": {},
   "source": [
    "## continue&break"
   ]
  },
  {
   "cell_type": "code",
   "execution_count": 24,
   "metadata": {},
   "outputs": [
    {
     "name": "stdout",
     "output_type": "stream",
     "text": [
      "finish run\n"
     ]
    }
   ],
   "source": [
    "#循环中比较重要的方法\n",
    "a = 1\n",
    "while True:\n",
    "    if a==1:\n",
    "       break\n",
    "    else:\n",
    "        pass\n",
    "print('finish run')"
   ]
  },
  {
   "cell_type": "code",
   "execution_count": 25,
   "metadata": {},
   "outputs": [
    {
     "name": "stdout",
     "output_type": "stream",
     "text": [
      "finish run\n"
     ]
    }
   ],
   "source": [
    "a = 1\n",
    "while a>2:\n",
    "    if a==1:\n",
    "       continue\n",
    "    else:\n",
    "        a = a+1\n",
    "print('finish run')"
   ]
  },
  {
   "attachments": {},
   "cell_type": "markdown",
   "metadata": {},
   "source": [
    "## 错误处理"
   ]
  },
  {
   "cell_type": "code",
   "execution_count": 27,
   "metadata": {},
   "outputs": [
    {
     "name": "stdout",
     "output_type": "stream",
     "text": [
      "[Errno 2] No such file or directory: 'eeee.txt'\n"
     ]
    }
   ],
   "source": [
    "try:\n",
    "    file = open('eeee.txt','r')\n",
    "except Exception as e:\n",
    "    print(e)\n",
    "else:\n",
    "    print('not wrong')"
   ]
  },
  {
   "attachments": {},
   "cell_type": "markdown",
   "metadata": {},
   "source": [
    "## zip lambda map"
   ]
  },
  {
   "cell_type": "code",
   "execution_count": null,
   "metadata": {},
   "outputs": [],
   "source": [
    "# map 功能和参数合并\n",
    "# lambda 简单的构造函数\n",
    "# zip 迭代会用到"
   ]
  },
  {
   "cell_type": "code",
   "execution_count": 29,
   "metadata": {},
   "outputs": [
    {
     "data": {
      "text/plain": [
       "[(1, 4), (2, 5), (3, 6)]"
      ]
     },
     "execution_count": 29,
     "metadata": {},
     "output_type": "execute_result"
    }
   ],
   "source": [
    "a = [1,2,3]\n",
    "b = [4,5,6]\n",
    "zip(a,b)\n",
    "list(zip(a,b))"
   ]
  },
  {
   "cell_type": "code",
   "execution_count": 30,
   "metadata": {},
   "outputs": [
    {
     "data": {
      "text/plain": [
       "[(1, 1, 4), (2, 2, 5), (3, 3, 6)]"
      ]
     },
     "execution_count": 30,
     "metadata": {},
     "output_type": "execute_result"
    }
   ],
   "source": [
    "list(zip(a,a,b))"
   ]
  },
  {
   "cell_type": "code",
   "execution_count": 31,
   "metadata": {},
   "outputs": [
    {
     "data": {
      "text/plain": [
       "5"
      ]
     },
     "execution_count": 31,
     "metadata": {},
     "output_type": "execute_result"
    }
   ],
   "source": [
    "def fun(x,y):\n",
    "    return x+y\n",
    "fun(2,3)"
   ]
  },
  {
   "cell_type": "code",
   "execution_count": 32,
   "metadata": {},
   "outputs": [
    {
     "data": {
      "text/plain": [
       "5"
      ]
     },
     "execution_count": 32,
     "metadata": {},
     "output_type": "execute_result"
    }
   ],
   "source": [
    "funa = lambda x,y:x+y #类似def 做一个简单的定义函数\n",
    "funa(2,3)"
   ]
  },
  {
   "cell_type": "code",
   "execution_count": 34,
   "metadata": {},
   "outputs": [
    {
     "name": "stdout",
     "output_type": "stream",
     "text": [
      "<map object at 0x000001B085FE0580>\n"
     ]
    },
    {
     "data": {
      "text/plain": [
       "[3]"
      ]
     },
     "execution_count": 34,
     "metadata": {},
     "output_type": "execute_result"
    }
   ],
   "source": [
    "print(map(funa,[1],[2]))\n",
    "list(map(funa,[1],[2]))"
   ]
  },
  {
   "cell_type": "code",
   "execution_count": 35,
   "metadata": {},
   "outputs": [
    {
     "data": {
      "text/plain": [
       "[3, 5]"
      ]
     },
     "execution_count": 35,
     "metadata": {},
     "output_type": "execute_result"
    }
   ],
   "source": [
    "list(map(funa,[1,2],[2,3]))"
   ]
  },
  {
   "attachments": {},
   "cell_type": "markdown",
   "metadata": {},
   "source": [
    "# copy & deepcopy"
   ]
  },
  {
   "cell_type": "code",
   "execution_count": 38,
   "metadata": {},
   "outputs": [
    {
     "name": "stdout",
     "output_type": "stream",
     "text": [
      "True\n",
      "False\n"
     ]
    }
   ],
   "source": [
    "import copy\n",
    "a = [1,2,3]\n",
    "b = a\n",
    "print(id(a)==id(b))\n",
    "c = copy.copy(a)\n",
    "print(id(a)==id(c))\n",
    "# 改变a或者b 两个同时都会被改变(在同一个内存空间上) 而copy就不会出现这种情况\n"
   ]
  },
  {
   "cell_type": "code",
   "execution_count": 40,
   "metadata": {},
   "outputs": [
    {
     "name": "stdout",
     "output_type": "stream",
     "text": [
      "True\n",
      "False\n"
     ]
    }
   ],
   "source": [
    "a = [1,2,[3,4]]\n",
    "d = copy.copy(a)\n",
    "print(id(d[2])==id(a[2]))#此时改变a的1，2位置的值 d不变 而改变[3,4] d会变（根指针有关）\n",
    "# 用deepcopy可以完全copy过来 两个变量无关了\n",
    "e = copy.deepcopy(a)\n",
    "print(id(e[2])==id(a[2]))"
   ]
  },
  {
   "attachments": {},
   "cell_type": "markdown",
   "metadata": {},
   "source": [
    "## pickle"
   ]
  },
  {
   "cell_type": "code",
   "execution_count": 4,
   "metadata": {},
   "outputs": [],
   "source": [
    "# 保存和提取的功能 可以保存变量 字典\n",
    "import pickle\n",
    "\n",
    "a_dict = {'da':111,2:[1,2,3],'23':{'l':1}}\n",
    "\n",
    "file = open('pickle_example.pickle','wb')\n",
    "pickle.dump(a_dict,file)\n",
    "file.close()"
   ]
  },
  {
   "cell_type": "code",
   "execution_count": 5,
   "metadata": {},
   "outputs": [
    {
     "name": "stdout",
     "output_type": "stream",
     "text": [
      "{'da': 111, 2: [1, 2, 3], '23': {'l': 1}}\n"
     ]
    }
   ],
   "source": [
    "file = open('pickle_example.pickle','rb')\n",
    "a_dict1 = pickle.load(file)\n",
    "file.close()\n",
    "print(a_dict1)"
   ]
  },
  {
   "cell_type": "code",
   "execution_count": 7,
   "metadata": {},
   "outputs": [],
   "source": [
    "with open('pickle_example.pickle','rb') as file: #用with就不用close文件\n",
    "    a_dict1 = pickle.load(file)"
   ]
  },
  {
   "attachments": {},
   "cell_type": "markdown",
   "metadata": {},
   "source": [
    "## set"
   ]
  },
  {
   "cell_type": "code",
   "execution_count": 12,
   "metadata": {},
   "outputs": [
    {
     "name": "stdout",
     "output_type": "stream",
     "text": [
      "{'b', 'c', 'a', 'd'}\n",
      "None\n",
      "{'d', 'b', 'a', 'c', 'n'}\n",
      "None\n",
      "set()\n"
     ]
    }
   ],
   "source": [
    "# 原理类似于集合 只有不同的元素 无序性和互异性\n",
    "char_list = ['a','b','c','c','d','d','d']\n",
    "print(set(char_list))\n",
    "# 加元素 只能一个个加 不能按照列表加\n",
    "unique_char = set(char_list)\n",
    "print(unique_char.add('n'))\n",
    "print(unique_char)\n",
    "# 清楚所有：\n",
    "# unique_char.clear()\n",
    "# 删除某个元素\n",
    "# print(unique_char.remove())#删除不存在的元素会报错\n",
    "print(unique_char.discard('n'))#删除不存在的元素不会报错\n",
    "# 比较两个元素不同\n",
    "set1 = {'a','b'}\n",
    "print(set1.difference(set(unique_char)))"
   ]
  },
  {
   "attachments": {},
   "cell_type": "markdown",
   "metadata": {},
   "source": [
    "# RegEx"
   ]
  },
  {
   "cell_type": "code",
   "execution_count": 13,
   "metadata": {},
   "outputs": [],
   "source": [
    "# regular expression\n",
    "import re"
   ]
  },
  {
   "cell_type": "code",
   "execution_count": 14,
   "metadata": {},
   "outputs": [
    {
     "name": "stdout",
     "output_type": "stream",
     "text": [
      "<re.Match object; span=(13, 16), match='cat'>\n",
      "None\n"
     ]
    }
   ],
   "source": [
    "# matching string\n",
    "pattern1 = 'cat'\n",
    "pattern2 = 'dogs'\n",
    "string = 'dog runs for cat'\n",
    "print(re.search(pattern1,string))\n",
    "print(re.search(pattern2,string))"
   ]
  },
  {
   "cell_type": "code",
   "execution_count": 15,
   "metadata": {},
   "outputs": [
    {
     "name": "stdout",
     "output_type": "stream",
     "text": [
      "<re.Match object; span=(4, 7), match='ran'>\n"
     ]
    }
   ],
   "source": [
    "# 匹配多种\n",
    "ptn = r'r[au]n'\n",
    "print(re.search(ptn,'dog ran for cat'))"
   ]
  },
  {
   "cell_type": "code",
   "execution_count": 17,
   "metadata": {},
   "outputs": [
    {
     "name": "stdout",
     "output_type": "stream",
     "text": [
      "None\n",
      "<re.Match object; span=(4, 7), match='ran'>\n",
      "None\n",
      "<re.Match object; span=(4, 7), match='ran'>\n"
     ]
    }
   ],
   "source": [
    "# 匹配更多可能\n",
    "print(re.search(r'r[A-Z]n','dog ran for cat'))\n",
    "print(re.search(r'r[a-z]n','dog ran for cat'))\n",
    "print(re.search(r'r[0-9]n','dog ran for cat'))\n",
    "print(re.search(r'r[0-9a-z]n','dog ran for cat'))"
   ]
  },
  {
   "attachments": {},
   "cell_type": "markdown",
   "metadata": {},
   "source": [
    "### 特殊匹配"
   ]
  },
  {
   "cell_type": "code",
   "execution_count": 20,
   "metadata": {},
   "outputs": [
    {
     "name": "stdout",
     "output_type": "stream",
     "text": [
      "<re.Match object; span=(0, 3), match='r2n'>\n",
      "<re.Match object; span=(4, 7), match='run'>\n"
     ]
    }
   ],
   "source": [
    "# \\d : 数字\n",
    "print(re.search(r'r\\dn','r2n run'))\n",
    "# \\D :不要数字\n",
    "print(re.search(r'r\\Dn','r2n run'))"
   ]
  },
  {
   "cell_type": "code",
   "execution_count": 21,
   "metadata": {},
   "outputs": [
    {
     "name": "stdout",
     "output_type": "stream",
     "text": [
      "<re.Match object; span=(0, 3), match='r\\nn'>\n",
      "<re.Match object; span=(4, 7), match='run'>\n"
     ]
    }
   ],
   "source": [
    "# 空白 \n",
    "# \\s : 空白\n",
    "print(re.search(r'r\\sn','r\\nn run'))\n",
    "# \\S : 非空白\n",
    "print(re.search(r'r\\Sn','r\\nn run'))"
   ]
  },
  {
   "cell_type": "code",
   "execution_count": 25,
   "metadata": {},
   "outputs": [
    {
     "name": "stdout",
     "output_type": "stream",
     "text": [
      "<re.Match object; span=(4, 7), match='r4n'>\n",
      "r\n",
      "n run\n"
     ]
    }
   ],
   "source": [
    "# 所有字母数字和_\n",
    "# \\w : [a-zA-z0-9_]\n",
    "print(re.search(r'r\\wn','r\\nn r4n'))\n",
    "# \\W: opposite to \\w\n",
    "print(re.search(r'r\\Wn','r\\nn run'))"
   ]
  },
  {
   "cell_type": "code",
   "execution_count": 28,
   "metadata": {},
   "outputs": [
    {
     "name": "stdout",
     "output_type": "stream",
     "text": [
      "<re.Match object; span=(3, 8), match=' runs'>\n",
      "<re.Match object; span=(3, 8), match=' runs'>\n"
     ]
    }
   ],
   "source": [
    "# 空白字符\n",
    "# \\b 空格\n",
    "print(re.search(r'\\b runs\\b','dog runs for cat'))\n",
    "# \\B 不管周围是否有空格 都可以匹配\n",
    "print(re.search(r'\\b runs\\b','dog runs for cat'))"
   ]
  },
  {
   "cell_type": "code",
   "execution_count": 31,
   "metadata": {},
   "outputs": [
    {
     "name": "stdout",
     "output_type": "stream",
     "text": [
      "<re.Match object; span=(4, 9), match='runs\\\\'>\n",
      "<re.Match object; span=(4, 6), match='ru'>\n"
     ]
    }
   ],
   "source": [
    "# 特殊字符\n",
    "# 反斜杠 \\\\\n",
    "print(re.search(r'runs\\\\','dog runs\\ for cat'))\n",
    "# . :除了\\n 匹配所有\n",
    "print(re.search(r'r.','dog runs for cat'))"
   ]
  },
  {
   "cell_type": "code",
   "execution_count": 32,
   "metadata": {},
   "outputs": [
    {
     "name": "stdout",
     "output_type": "stream",
     "text": [
      "<re.Match object; span=(0, 3), match='dog'>\n",
      "<re.Match object; span=(14, 17), match='cat'>\n"
     ]
    }
   ],
   "source": [
    "# ^: 句首\n",
    "print(re.search(r'^dog','dog runs\\ for cat'))\n",
    "# $: 句尾\n",
    "print(re.search(r'cat$','dog runs\\ for cat'))"
   ]
  },
  {
   "cell_type": "code",
   "execution_count": 33,
   "metadata": {},
   "outputs": [
    {
     "name": "stdout",
     "output_type": "stream",
     "text": [
      "<re.Match object; span=(0, 6), match='Monday'>\n",
      "<re.Match object; span=(0, 3), match='Mon'>\n"
     ]
    }
   ],
   "source": [
    "# 是否\n",
    "# ?\n",
    "print(re.search(r'Mon(day)?','Monday'))\n",
    "print(re.search(r'Mon(day)?','Mon'))"
   ]
  },
  {
   "attachments": {},
   "cell_type": "markdown",
   "metadata": {},
   "source": [
    "参考https://www.runoob.com/regexp/regexp-syntax.html"
   ]
  },
  {
   "cell_type": "code",
   "execution_count": 35,
   "metadata": {},
   "outputs": [
    {
     "name": "stdout",
     "output_type": "stream",
     "text": [
      "['q', 's', 'd', 'f', 'x']\n"
     ]
    }
   ],
   "source": [
    "# 分裂\n",
    "print(re.split(r'[,;\\.?]','q.s.d,f?x'))"
   ]
  }
 ],
 "metadata": {
  "kernelspec": {
   "display_name": "base",
   "language": "python",
   "name": "python3"
  },
  "language_info": {
   "codemirror_mode": {
    "name": "ipython",
    "version": 3
   },
   "file_extension": ".py",
   "mimetype": "text/x-python",
   "name": "python",
   "nbconvert_exporter": "python",
   "pygments_lexer": "ipython3",
   "version": "3.8.5"
  },
  "orig_nbformat": 4
 },
 "nbformat": 4,
 "nbformat_minor": 2
}
